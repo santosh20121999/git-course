{
  "nbformat": 4,
  "nbformat_minor": 0,
  "metadata": {
    "colab": {
      "provenance": [],
      "authorship_tag": "ABX9TyOyE+viRjDOlNsDiTz7WVXw",
      "include_colab_link": true
    },
    "kernelspec": {
      "name": "python3",
      "display_name": "Python 3"
    },
    "language_info": {
      "name": "python"
    }
  },
  "cells": [
    {
      "cell_type": "markdown",
      "metadata": {
        "id": "view-in-github",
        "colab_type": "text"
      },
      "source": [
        "<a href=\"https://colab.research.google.com/github/santosh20121999/git-course/blob/main/SURVIVAL_DURATION.ipynb\" target=\"_parent\"><img src=\"https://colab.research.google.com/assets/colab-badge.svg\" alt=\"Open In Colab\"/></a>"
      ]
    },
    {
      "cell_type": "code",
      "execution_count": null,
      "metadata": {
        "id": "PZoTyjcLk15j"
      },
      "outputs": [],
      "source": [
        "def survival_duration_calculator():\n",
        "\n",
        "    age = int(input(\"What's your age? \"))\n",
        "\n",
        "    unit = input(\"\\nPlease choose time unit: Months, Weeks, Days, Hours, Minutes, Seconds. \\nNote: You can write the first letter or the full name of the time unit :  \").strip().lower()\n",
        "\n",
        "    months = age * 12\n",
        "    weeks = months * 4\n",
        "    days = age * 365\n",
        "    hours = days * 24\n",
        "    minutes = hours * 60\n",
        "    seconds = minutes * 60\n",
        "\n",
        "\n",
        "    if unit == 'months' or unit == 'm':\n",
        "        print(f'\\n Congratulations! You lived for {months} Months')\n",
        "\n",
        "    elif unit == 'weeks' or unit == 'w':\n",
        "        print(f'\\n Congratulations! You lived for {weeks} Weeks')\n",
        "\n",
        "    elif unit == 'days' or unit == 'd':\n",
        "        print(f'\\n Congratulations! You lived for {days} Days')\n",
        "\n",
        "    elif unit == 'hours' or unit == 'h':\n",
        "        print(f'\\n Congratulations! You lived for {hours} Hours')\n",
        "\n",
        "    elif unit == 'minutes' or unit == 'mi':\n",
        "        print(f'\\n Congratulations! You lived for {minutes} Minutes')\n",
        "\n",
        "    elif unit == 'seconds' or unit == 's':\n",
        "        print(f'\\n Congratulations! You lived for {seconds} Seconds')\n",
        "\n",
        "    else:\n",
        "        print('\\nIncorrect choice please select correct choice!!!!')\n",
        "\n",
        "    return\n",
        "\n",
        "\n",
        "\n",
        "survival_duration_calculator()"
      ]
    }
  ]
}