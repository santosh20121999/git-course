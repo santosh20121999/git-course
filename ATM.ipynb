{
  "cells": [
    {
      "cell_type": "markdown",
      "metadata": {
        "id": "view-in-github",
        "colab_type": "text"
      },
      "source": [
        "<a href=\"https://colab.research.google.com/github/santosh20121999/git-course/blob/main/ATM.ipynb\" target=\"_parent\"><img src=\"https://colab.research.google.com/assets/colab-badge.svg\" alt=\"Open In Colab\"/></a>"
      ]
    },
    {
      "cell_type": "code",
      "execution_count": null,
      "metadata": {
        "colab": {
          "base_uri": "https://localhost:8080/"
        },
        "id": "3l1de0xDxelB",
        "outputId": "4fb00c8c-662c-4f4b-dbcf-d7b0668bbe27"
      },
      "outputs": [
        {
          "output_type": "stream",
          "name": "stdout",
          "text": [
            "\n",
            "            ***** Welcome To ATM Machine Simulator *****\n",
            "         \n"
          ]
        }
      ],
      "source": [
        "def atm_simulation():\n",
        "\n",
        "    balance=10000\n",
        "    correct_pin = 65566\n",
        "    print('''\n",
        "            ***** Welcome To ATM Machine Simulator *****\n",
        "         ''')\n",
        "\n",
        "    pin=int(input('Enter Your Pin: '))\n",
        "    if pin!=correct_pin:\n",
        "      print(\"Incorrect pin\")\n",
        "      print(\"Thank you\")\n",
        "      return\n",
        "    while True:\n",
        "      print('''\n",
        "              Options you can Excercise are:\n",
        "              1) Balance\n",
        "              2) Withdraw\n",
        "              3) Deposit\n",
        "              4) Exit\n",
        "           ''')\n",
        "      choose=int(input('Select Your Transaction from the above options: '))\n",
        "      if choose==1:\n",
        "          print(f'Available Account Balance Is {balance}')\n",
        "      elif choose==2:\n",
        "          withdraw=int(input('Enter Amount: '))\n",
        "          if withdraw<=balance:\n",
        "              balance-=withdraw\n",
        "              print(f'Your availabe balance is {balance}')\n",
        "          else:\n",
        "              print('Insufficient Balance')\n",
        "      elif choose==3:\n",
        "          amount=int(input('Enter Amount: '))\n",
        "          balance+=amount\n",
        "          print(f'New Balance is {balance}')\n",
        "      elif choose==4:\n",
        "          print(\"Thank you!\")\n",
        "          break\n",
        "      else:\n",
        "          print('Wrong choice! please select the correct option....')\n",
        "\n",
        "    return\n",
        "\n",
        "\n",
        "\n",
        "atm_simulation()"
      ]
    }
  ],
  "metadata": {
    "colab": {
      "provenance": [],
      "authorship_tag": "ABX9TyPeEjHsRBxOSMdrpHRBxuLZ",
      "include_colab_link": true
    },
    "kernelspec": {
      "display_name": "Python 3",
      "name": "python3"
    },
    "language_info": {
      "name": "python"
    }
  },
  "nbformat": 4,
  "nbformat_minor": 0
}